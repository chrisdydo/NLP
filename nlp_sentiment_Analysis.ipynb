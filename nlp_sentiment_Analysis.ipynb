{
  "nbformat": 4,
  "nbformat_minor": 0,
  "metadata": {
    "colab": {
      "name": "nlp_sentimentAnalysis_.ipynb\"",
      "provenance": [],
      "collapsed_sections": []
    },
    "kernelspec": {
      "name": "python3",
      "display_name": "Python 3"
    },
    "accelerator": "GPU"
  },
  "cells": [
    {
      "cell_type": "markdown",
      "metadata": {
        "id": "NLCFKddnDGxg"
      },
      "source": [
        "**Гло́кая ку́здра ште́ко будлану́ла бо́кра и курдя́чит бокрёнка**\n",
        "\n",
        "---\n",
        "\n"
      ]
    },
    {
      "cell_type": "markdown",
      "metadata": {
        "id": "8o1k9bWduLNn"
      },
      "source": [
        "### про язык \n",
        "1. Язык — множество цепочек символов, которые несут определенный смысл \n",
        "2. Символы — это алфавит\n",
        "3. Язык строится по определенным правилам \n",
        "4. Язык — социальный конструкт"
      ]
    },
    {
      "cell_type": "markdown",
      "metadata": {
        "id": "GinD5fVbqX7z"
      },
      "source": [
        "### почему  сложно работать с языком?\n",
        "\n",
        "\n",
        "\n",
        "1.   Люди не всегда выражают свое истинное намерение точными формулировками\n",
        "2.   Смысловая омонимия:  косил косой косой косой\n",
        "3.   Задачи требуют знаний о мире\n",
        "\n",
        "\n",
        "\n"
      ]
    },
    {
      "cell_type": "markdown",
      "metadata": {
        "id": "8A8C6L9XquFb"
      },
      "source": [
        "### задачи в nlp\n",
        "\n",
        "1. классификация (класифицировать токены )\n",
        "2. поиск(макс релевантный роисковой запрос )\n",
        "3. машинный перевод ( перевод из аудио в текст, из теста в ихображение и наоборор методы )\n",
        "4. извлечение информации (парсинг данных,\n",
        "5. диалоговые системы(виртуальные помошники ,база вопросов ответов )\n",
        "\n",
        "[Еще задачи](https://nlpprogress.com)"
      ]
    },
    {
      "cell_type": "markdown",
      "metadata": {
        "id": "qIl2hVg8n-IM"
      },
      "source": [
        "### ml\n",
        "\n",
        "### 🎯 задача с критерием выполнения (точно клаисфицировать эмоции пользователя который пишет в тех поддержку )\n",
        "### 🗂️ данные\n",
        "### 📦 модель\n",
        "### 🎱 предсказание\n",
        "### 📐 функция ошибки\n",
        "\n",
        "\n",
        "\n",
        "---\n",
        "\n"
      ]
    },
    {
      "cell_type": "markdown",
      "metadata": {
        "id": "5EcmQPq4n-Et"
      },
      "source": [
        "Задача анализа сантиментов положительных и отрицательных\n",
        "\n",
        "Любая модель из двух частей, первая переводит слова в числа, вторая решает задачу на основе этих чисел\n",
        "\n",
        "![alt text](http://jalammar.github.io/images/t/The_transformer_encoders_decoders.png)\n",
        "\n",
        "\n",
        "---\n"
      ]
    },
    {
      "cell_type": "markdown",
      "metadata": {
        "id": "BSDeTB28qScJ"
      },
      "source": [
        "# Практика\n"
      ]
    },
    {
      "cell_type": "markdown",
      "metadata": {
        "id": "ufztQNiVNPLy"
      },
      "source": [
        "**File -> Save a copy in Drive**\n",
        "\n",
        "Классификация смс в твиттер негативных и положительных.на сантименты положительные и отрицательные \n",
        "\n",
        "http://study.mokoron.com/ датасет проверяем его согласованность \n",
        "\n",
        "скачаем датасет"
      ]
    },
    {
      "cell_type": "code",
      "metadata": {
        "id": "wPyC8Z423OcI",
        "outputId": "806e76fa-bd92-4575-cee8-fb06fce38d8f",
        "colab": {
          "base_uri": "https://localhost:8080/",
          "height": 728
        }
      },
      "source": [
        "!wget https://www.dropbox.com/s/fnpq3z4bcnoktiv/positive.csv\n",
        "!wget https://www.dropbox.com/s/r6u59ljhhjdg6j0/negative.csv"
      ],
      "execution_count": null,
      "outputs": [
        {
          "output_type": "stream",
          "text": [
            "--2020-04-25 12:42:01--  https://www.dropbox.com/s/fnpq3z4bcnoktiv/positive.csv\n",
            "Resolving www.dropbox.com (www.dropbox.com)... 162.125.8.1, 2620:100:601b:1::a27d:801\n",
            "Connecting to www.dropbox.com (www.dropbox.com)|162.125.8.1|:443... connected.\n",
            "HTTP request sent, awaiting response... 301 Moved Permanently\n",
            "Location: /s/raw/fnpq3z4bcnoktiv/positive.csv [following]\n",
            "--2020-04-25 12:42:01--  https://www.dropbox.com/s/raw/fnpq3z4bcnoktiv/positive.csv\n",
            "Reusing existing connection to www.dropbox.com:443.\n",
            "HTTP request sent, awaiting response... 302 Found\n",
            "Location: https://uca34f412c4ff9da2fa742266b6e.dl.dropboxusercontent.com/cd/0/inline/A2jnJZlvatadxVVBu7K5lFCY5TJWxmTmABUewU23otiygHp-kCr2NqHGU_SwbRyCQRLr5ecQSL3F1OMCB44NxOK-vpbyuvvA5GfMXSBNydKfcg/file# [following]\n",
            "--2020-04-25 12:42:02--  https://uca34f412c4ff9da2fa742266b6e.dl.dropboxusercontent.com/cd/0/inline/A2jnJZlvatadxVVBu7K5lFCY5TJWxmTmABUewU23otiygHp-kCr2NqHGU_SwbRyCQRLr5ecQSL3F1OMCB44NxOK-vpbyuvvA5GfMXSBNydKfcg/file\n",
            "Resolving uca34f412c4ff9da2fa742266b6e.dl.dropboxusercontent.com (uca34f412c4ff9da2fa742266b6e.dl.dropboxusercontent.com)... 162.125.1.6, 2620:100:6016:6::a27d:106\n",
            "Connecting to uca34f412c4ff9da2fa742266b6e.dl.dropboxusercontent.com (uca34f412c4ff9da2fa742266b6e.dl.dropboxusercontent.com)|162.125.1.6|:443... connected.\n",
            "HTTP request sent, awaiting response... 200 OK\n",
            "Length: 26233379 (25M) [text/plain]\n",
            "Saving to: ‘positive.csv.1’\n",
            "\n",
            "positive.csv.1      100%[===================>]  25.02M  42.0MB/s    in 0.6s    \n",
            "\n",
            "2020-04-25 12:42:03 (42.0 MB/s) - ‘positive.csv.1’ saved [26233379/26233379]\n",
            "\n",
            "--2020-04-25 12:42:04--  https://www.dropbox.com/s/r6u59ljhhjdg6j0/negative.csv\n",
            "Resolving www.dropbox.com (www.dropbox.com)... 162.125.8.1, 2620:100:6016:1::a27d:101\n",
            "Connecting to www.dropbox.com (www.dropbox.com)|162.125.8.1|:443... connected.\n",
            "HTTP request sent, awaiting response... 301 Moved Permanently\n",
            "Location: /s/raw/r6u59ljhhjdg6j0/negative.csv [following]\n",
            "--2020-04-25 12:42:04--  https://www.dropbox.com/s/raw/r6u59ljhhjdg6j0/negative.csv\n",
            "Reusing existing connection to www.dropbox.com:443.\n",
            "HTTP request sent, awaiting response... 302 Found\n",
            "Location: https://ucb081fba2d9edfbc95b1d00a868.dl.dropboxusercontent.com/cd/0/inline/A2gPUtI0r-aFyRTb5Mrv-digbAdlHNqKjKfwmTW56kM9d_pydpLjMX2fQp7LhyjlFRHxsD4z-b7-tVUJvsp7Ar9Ezq1OUCp3kOEDyd6JEjMBGA/file# [following]\n",
            "--2020-04-25 12:42:05--  https://ucb081fba2d9edfbc95b1d00a868.dl.dropboxusercontent.com/cd/0/inline/A2gPUtI0r-aFyRTb5Mrv-digbAdlHNqKjKfwmTW56kM9d_pydpLjMX2fQp7LhyjlFRHxsD4z-b7-tVUJvsp7Ar9Ezq1OUCp3kOEDyd6JEjMBGA/file\n",
            "Resolving ucb081fba2d9edfbc95b1d00a868.dl.dropboxusercontent.com (ucb081fba2d9edfbc95b1d00a868.dl.dropboxusercontent.com)... 162.125.1.6, 2620:100:6016:6::a27d:106\n",
            "Connecting to ucb081fba2d9edfbc95b1d00a868.dl.dropboxusercontent.com (ucb081fba2d9edfbc95b1d00a868.dl.dropboxusercontent.com)|162.125.1.6|:443... connected.\n",
            "HTTP request sent, awaiting response... 200 OK\n",
            "Length: 24450101 (23M) [text/plain]\n",
            "Saving to: ‘negative.csv.1’\n",
            "\n",
            "negative.csv.1      100%[===================>]  23.32M   102MB/s    in 0.2s    \n",
            "\n",
            "2020-04-25 12:42:05 (102 MB/s) - ‘negative.csv.1’ saved [24450101/24450101]\n",
            "\n"
          ],
          "name": "stdout"
        }
      ]
    },
    {
      "cell_type": "code",
      "metadata": {
        "id": "I5-npskd4fZr",
        "outputId": "3f9d4351-0c5e-4068-cca9-48b36ba77e69",
        "colab": {
          "base_uri": "https://localhost:8080/",
          "height": 210
        }
      },
      "source": [
        "## смотрим формат датасета, head -это даные в начале . teil в конце. это фукции пандас все .в данных видно что нет колонок (таблицы, данные просто сsv это просто строки через точку с запятой )\n",
        "\n",
        "!head positive.csv"
      ],
      "execution_count": null,
      "outputs": [
        {
          "output_type": "stream",
          "text": [
            "\"408906692374446080\";\"1386325927\";\"pleease_shut_up\";\"@first_timee хоть я и школота, но поверь, у нас то же самое :D общество профилирующий предмет типа)\";\"1\";\"0\";\"0\";\"0\";\"7569\";\"62\";\"61\";\"0\"\r\n",
            "\"408906692693221377\";\"1386325927\";\"alinakirpicheva\";\"Да, все-таки он немного похож на него. Но мой мальчик все равно лучше:D\";\"1\";\"0\";\"0\";\"0\";\"11825\";\"59\";\"31\";\"2\"\r\n",
            "\"408906695083954177\";\"1386325927\";\"EvgeshaRe\";\"RT @KatiaCheh: Ну ты идиотка) я испугалась за тебя!!!\";\"1\";\"0\";\"1\";\"0\";\"1273\";\"26\";\"27\";\"0\"\r\n",
            "\"408906695356973056\";\"1386325927\";\"ikonnikova_21\";\"RT @digger2912: \"\"Кто то в углу сидит и погибает от голода, а мы ещё 2 порции взяли, хотя уже и так жрать не хотим\"\" :DD http://t.co/GqG6iuE2…\";\"1\";\"0\";\"1\";\"0\";\"1549\";\"19\";\"17\";\"0\"\r\n",
            "\"408906761416867842\";\"1386325943\";\"JumpyAlex\";\"@irina_dyshkant Вот что значит страшилка :D\n",
            "Но блин,посмотрев все части,у тебя создастся ощущение,что авторы курили что-то :D\";\"1\";\"0\";\"0\";\"0\";\"597\";\"16\";\"23\";\"1\"\r\n",
            "\"408906761769598976\";\"1386325943\";\"JustinB94262583\";\"ну любишь или нет? — Я не знаю кто ты бля:D http://t.co/brf9eNg1U6\";\"1\";\"0\";\"0\";\"0\";\"40\";\"6\";\"16\";\"0\"\r\n",
            "\"408906762436481024\";\"1386325943\";\"twinkleAYO\";\"RT @SpoonLamer: Ох,900 :D ну это конечно же @twinkleAYO . Чтобы у нее было много друзей, ведь она такая мимими &lt;3\";\"1\";\"0\";\"1\";\"0\";\"5169\";\"58\";\"43\";\"2\"\r\n",
            "\"408906764114206720\";\"1386325944\";\"pycalyruhog\";\"RT @veregijytaqo: У тебя есть ухажёр? Нет - мои уши не кто не жрёт :D\";\"1\";\"0\";\"2\";\"0\";\"393\";\"112\";\"153\";\"0\"\r\n",
            "\"408906764608749568\";\"1386325944\";\"grishintv\";\"Поприветствуем моего нового читателя @Alexey1789 ;)\";\"1\";\"0\";\"0\";\"0\";\"5872\";\"1387\";\"1431\";\"12\"\r\n"
          ],
          "name": "stdout"
        }
      ]
    },
    {
      "cell_type": "code",
      "metadata": {
        "id": "iTQb0RTAGgXY",
        "outputId": "cc9006ea-54fa-4c37-b9f6-b1316f92d9e5",
        "colab": {
          "base_uri": "https://localhost:8080/",
          "height": 210
        }
      },
      "source": [
        "!tail negative.csv"
      ],
      "execution_count": null,
      "outputs": [
        {
          "output_type": "stream",
          "text": [
            "\"425137932283158528\";\"1390195756\";\"pazyfevesity\";\"RT @qelasocadij: Скажите пожалуйста, как у человека может быть 1000 одноклассников? O_o\";\"-1\";\"0\";\"1\";\"0\";\"2168\";\"171\";\"132\";\"0\"\r\n",
            "\"425137934443233281\";\"1390195756\";\"Sonya_Star_14\";\"У нас физ ра на улице\n",
            "Пака линт:(\n",
            "Через 45 минут приду пхжааххв\";\"-1\";\"0\";\"0\";\"0\";\"12722\";\"638\";\"567\";\"2\"\r\n",
            "\"425138035089358848\";\"1390195780\";\"evalesana\";\"Нас сегодня отказались принять в сад, типа мы плачем(( #королев пойду ругаться сейчас, по крайне мере выяснять, что за фигня\";\"-1\";\"0\";\"0\";\"0\";\"4101\";\"166\";\"151\";\"6\"\r\n",
            "\"425138243257253888\";\"1390195830\";\"Yanch_96\";\"Но не каждый хочет что то исправлять:( http://t.co/QNODDQzuZ7\";\"-1\";\"0\";\"0\";\"0\";\"1138\";\"32\";\"46\";\"0\"\r\n",
            "\"425138339503943682\";\"1390195853\";\"tkit_on\";\"скучаю так :-( только @taaannyaaa вправляет мозги, но я все равно скучаю\";\"-1\";\"0\";\"0\";\"0\";\"4822\";\"38\";\"32\";\"0\"\r\n",
            "\"425138437684215808\";\"1390195876\";\"ckooker1\";\"Вот и в школу, в говно это идти уже надо(\";\"-1\";\"0\";\"0\";\"1\";\"165\";\"13\";\"16\";\"0\"\r\n",
            "\"425138490452344832\";\"1390195889\";\"LisaBeroud\";\"RT @_Them__: @LisaBeroud Тауриэль, не грусти :( *обнял*\";\"-1\";\"0\";\"1\";\"0\";\"2516\";\"187\";\"265\";\"0\"\r\n",
            "\"425138595251625984\";\"1390195914\";\"sukapavlov\";\"Такси везет меня на работу. Раздумываю приплатить, чтобы меня втащили на пятый этаж. Лифта то нет :(\";\"-1\";\"0\";\"0\";\"0\";\"7778\";\"146\";\"66\";\"5\"\r\n"
          ],
          "name": "stdout"
        }
      ]
    },
    {
      "cell_type": "code",
      "metadata": {
        "id": "JBXNzyYy4SM0"
      },
      "source": [
        "import pandas as pd\n",
        "import numpy as np\n",
        "\n",
        "##зафиксируем seed для воспроизводимости,это значит что рандом фиксированный \n",
        "SEED = 17\n",
        "np.random.seed(SEED)\n",
        "\n",
        "# загрузим данные в два датафрейма\n",
        "df_pos = pd.read_csv('positive.csv', sep=';', header=None)\n",
        "df_neg = pd.read_csv('negative.csv', sep=';', header=None)"
      ],
      "execution_count": null,
      "outputs": []
    },
    {
      "cell_type": "code",
      "metadata": {
        "id": "KDnurunzEBq4",
        "outputId": "6a40d337-17d3-4cab-b8b1-3fec7b99d962",
        "colab": {
          "base_uri": "https://localhost:8080/",
          "height": 233
        }
      },
      "source": [
        "df_pos.head()"
      ],
      "execution_count": null,
      "outputs": [
        {
          "output_type": "execute_result",
          "data": {
            "text/html": [
              "<div>\n",
              "<style scoped>\n",
              "    .dataframe tbody tr th:only-of-type {\n",
              "        vertical-align: middle;\n",
              "    }\n",
              "\n",
              "    .dataframe tbody tr th {\n",
              "        vertical-align: top;\n",
              "    }\n",
              "\n",
              "    .dataframe thead th {\n",
              "        text-align: right;\n",
              "    }\n",
              "</style>\n",
              "<table border=\"1\" class=\"dataframe\">\n",
              "  <thead>\n",
              "    <tr style=\"text-align: right;\">\n",
              "      <th></th>\n",
              "      <th>0</th>\n",
              "      <th>1</th>\n",
              "      <th>2</th>\n",
              "      <th>3</th>\n",
              "      <th>4</th>\n",
              "      <th>5</th>\n",
              "      <th>6</th>\n",
              "      <th>7</th>\n",
              "      <th>8</th>\n",
              "      <th>9</th>\n",
              "      <th>10</th>\n",
              "      <th>11</th>\n",
              "    </tr>\n",
              "  </thead>\n",
              "  <tbody>\n",
              "    <tr>\n",
              "      <th>0</th>\n",
              "      <td>408906692374446080</td>\n",
              "      <td>1386325927</td>\n",
              "      <td>pleease_shut_up</td>\n",
              "      <td>@first_timee хоть я и школота, но поверь, у нас то же самое :D общество профилирующий предмет типа)</td>\n",
              "      <td>1</td>\n",
              "      <td>0</td>\n",
              "      <td>0</td>\n",
              "      <td>0</td>\n",
              "      <td>7569</td>\n",
              "      <td>62</td>\n",
              "      <td>61</td>\n",
              "      <td>0</td>\n",
              "    </tr>\n",
              "    <tr>\n",
              "      <th>1</th>\n",
              "      <td>408906692693221377</td>\n",
              "      <td>1386325927</td>\n",
              "      <td>alinakirpicheva</td>\n",
              "      <td>Да, все-таки он немного похож на него. Но мой мальчик все равно лучше:D</td>\n",
              "      <td>1</td>\n",
              "      <td>0</td>\n",
              "      <td>0</td>\n",
              "      <td>0</td>\n",
              "      <td>11825</td>\n",
              "      <td>59</td>\n",
              "      <td>31</td>\n",
              "      <td>2</td>\n",
              "    </tr>\n",
              "    <tr>\n",
              "      <th>2</th>\n",
              "      <td>408906695083954177</td>\n",
              "      <td>1386325927</td>\n",
              "      <td>EvgeshaRe</td>\n",
              "      <td>RT @KatiaCheh: Ну ты идиотка) я испугалась за тебя!!!</td>\n",
              "      <td>1</td>\n",
              "      <td>0</td>\n",
              "      <td>1</td>\n",
              "      <td>0</td>\n",
              "      <td>1273</td>\n",
              "      <td>26</td>\n",
              "      <td>27</td>\n",
              "      <td>0</td>\n",
              "    </tr>\n",
              "    <tr>\n",
              "      <th>3</th>\n",
              "      <td>408906695356973056</td>\n",
              "      <td>1386325927</td>\n",
              "      <td>ikonnikova_21</td>\n",
              "      <td>RT @digger2912: \"Кто то в углу сидит и погибает от голода, а мы ещё 2 порции взяли, хотя уже и так жрать не хотим\" :DD http://t.co/GqG6i...</td>\n",
              "      <td>1</td>\n",
              "      <td>0</td>\n",
              "      <td>1</td>\n",
              "      <td>0</td>\n",
              "      <td>1549</td>\n",
              "      <td>19</td>\n",
              "      <td>17</td>\n",
              "      <td>0</td>\n",
              "    </tr>\n",
              "    <tr>\n",
              "      <th>4</th>\n",
              "      <td>408906761416867842</td>\n",
              "      <td>1386325943</td>\n",
              "      <td>JumpyAlex</td>\n",
              "      <td>@irina_dyshkant Вот что значит страшилка :D\\nНо блин,посмотрев все части,у тебя создастся ощущение,что авторы курили что-то :D</td>\n",
              "      <td>1</td>\n",
              "      <td>0</td>\n",
              "      <td>0</td>\n",
              "      <td>0</td>\n",
              "      <td>597</td>\n",
              "      <td>16</td>\n",
              "      <td>23</td>\n",
              "      <td>1</td>\n",
              "    </tr>\n",
              "  </tbody>\n",
              "</table>\n",
              "</div>"
            ],
            "text/plain": [
              "                   0           1                2   ...  9   10  11\n",
              "0  408906692374446080  1386325927  pleease_shut_up  ...  62  61   0\n",
              "1  408906692693221377  1386325927  alinakirpicheva  ...  59  31   2\n",
              "2  408906695083954177  1386325927        EvgeshaRe  ...  26  27   0\n",
              "3  408906695356973056  1386325927    ikonnikova_21  ...  19  17   0\n",
              "4  408906761416867842  1386325943        JumpyAlex  ...  16  23   1\n",
              "\n",
              "[5 rows x 12 columns]"
            ]
          },
          "metadata": {
            "tags": []
          },
          "execution_count": 165
        }
      ]
    },
    {
      "cell_type": "code",
      "metadata": {
        "id": "XD6R_E6TtJRB"
      },
      "source": [
        "## параметр, максимального количества символов на колонку в pandas ширина колонки \n",
        "pd.set_option('max_colwidth', 140)"
      ],
      "execution_count": null,
      "outputs": []
    },
    {
      "cell_type": "code",
      "metadata": {
        "id": "iMAq11fg0LfZ",
        "outputId": "47a5a669-c102-4d14-cf3c-94550c80aa31",
        "colab": {
          "base_uri": "https://localhost:8080/",
          "height": 95
        }
      },
      "source": [
        "df_pos.sample(1) # посмотреть рандомный семпл из данных"
      ],
      "execution_count": null,
      "outputs": [
        {
          "output_type": "execute_result",
          "data": {
            "text/html": [
              "<div>\n",
              "<style scoped>\n",
              "    .dataframe tbody tr th:only-of-type {\n",
              "        vertical-align: middle;\n",
              "    }\n",
              "\n",
              "    .dataframe tbody tr th {\n",
              "        vertical-align: top;\n",
              "    }\n",
              "\n",
              "    .dataframe thead th {\n",
              "        text-align: right;\n",
              "    }\n",
              "</style>\n",
              "<table border=\"1\" class=\"dataframe\">\n",
              "  <thead>\n",
              "    <tr style=\"text-align: right;\">\n",
              "      <th></th>\n",
              "      <th>0</th>\n",
              "      <th>1</th>\n",
              "      <th>2</th>\n",
              "      <th>3</th>\n",
              "      <th>4</th>\n",
              "      <th>5</th>\n",
              "      <th>6</th>\n",
              "      <th>7</th>\n",
              "      <th>8</th>\n",
              "      <th>9</th>\n",
              "      <th>10</th>\n",
              "      <th>11</th>\n",
              "    </tr>\n",
              "  </thead>\n",
              "  <tbody>\n",
              "    <tr>\n",
              "      <th>57434</th>\n",
              "      <td>410123621911511041</td>\n",
              "      <td>1386616065</td>\n",
              "      <td>_badboy____</td>\n",
              "      <td>RT @m_tikhon: Мила очень коварна :D\\nОна сначала дождалась ,когда мы съедим орешки,а потом рассказала про них ужасное :D</td>\n",
              "      <td>1</td>\n",
              "      <td>0</td>\n",
              "      <td>2</td>\n",
              "      <td>0</td>\n",
              "      <td>8490</td>\n",
              "      <td>93</td>\n",
              "      <td>49</td>\n",
              "      <td>1</td>\n",
              "    </tr>\n",
              "  </tbody>\n",
              "</table>\n",
              "</div>"
            ],
            "text/plain": [
              "                       0           1            2   ...  9   10  11\n",
              "57434  410123621911511041  1386616065  _badboy____  ...  93  49   1\n",
              "\n",
              "[1 rows x 12 columns]"
            ]
          },
          "metadata": {
            "tags": []
          },
          "execution_count": 167
        }
      ]
    },
    {
      "cell_type": "code",
      "metadata": {
        "id": "QY8uFicoYSsa",
        "outputId": "8f7959a9-c97b-473c-da6b-3d6f088bf394",
        "colab": {
          "base_uri": "https://localhost:8080/",
          "height": 294
        }
      },
      "source": [
        "!nvidia-smi #посмотреть видеок на которой процесится код\n"
      ],
      "execution_count": null,
      "outputs": [
        {
          "output_type": "stream",
          "text": [
            "Sat Apr 25 12:47:56 2020       \n",
            "+-----------------------------------------------------------------------------+\n",
            "| NVIDIA-SMI 440.64.00    Driver Version: 418.67       CUDA Version: 10.1     |\n",
            "|-------------------------------+----------------------+----------------------+\n",
            "| GPU  Name        Persistence-M| Bus-Id        Disp.A | Volatile Uncorr. ECC |\n",
            "| Fan  Temp  Perf  Pwr:Usage/Cap|         Memory-Usage | GPU-Util  Compute M. |\n",
            "|===============================+======================+======================|\n",
            "|   0  Tesla P100-PCIE...  Off  | 00000000:00:04.0 Off |                    0 |\n",
            "| N/A   36C    P0    32W / 250W |   1965MiB / 16280MiB |      0%      Default |\n",
            "+-------------------------------+----------------------+----------------------+\n",
            "                                                                               \n",
            "+-----------------------------------------------------------------------------+\n",
            "| Processes:                                                       GPU Memory |\n",
            "|  GPU       PID   Type   Process name                             Usage      |\n",
            "|=============================================================================|\n",
            "+-----------------------------------------------------------------------------+\n"
          ],
          "name": "stdout"
        }
      ]
    },
    {
      "cell_type": "code",
      "metadata": {
        "id": "YJgApcoC43Lb"
      },
      "source": [
        "##соединим оба датафрейса в один и отщмпнем от него кусок в 30к \n",
        "df = pd.concat([df_pos, df_neg])\n",
        "df = df.sample(30000, random_state=SEED)"
      ],
      "execution_count": null,
      "outputs": []
    },
    {
      "cell_type": "code",
      "metadata": {
        "id": "Txpxv_tCJ2x2"
      },
      "source": [
        "## колонки 3 и 4 соответствуют тексту и отметке сентимента\n",
        "df = df[[3,4]]"
      ],
      "execution_count": null,
      "outputs": []
    },
    {
      "cell_type": "code",
      "metadata": {
        "id": "FniF7QS956E-"
      },
      "source": [
        "# переименуем названия колонок в более привычные\n",
        "df = df.rename(columns={3:'text', 4:'label'})"
      ],
      "execution_count": null,
      "outputs": []
    },
    {
      "cell_type": "code",
      "metadata": {
        "id": "8vM0K0iG0w_w",
        "outputId": "9c3654cd-b60e-473e-ff33-4ae0a9a59531",
        "colab": {
          "base_uri": "https://localhost:8080/",
          "height": 198
        }
      },
      "source": [
        "df.head()"
      ],
      "execution_count": null,
      "outputs": [
        {
          "output_type": "execute_result",
          "data": {
            "text/html": [
              "<div>\n",
              "<style scoped>\n",
              "    .dataframe tbody tr th:only-of-type {\n",
              "        vertical-align: middle;\n",
              "    }\n",
              "\n",
              "    .dataframe tbody tr th {\n",
              "        vertical-align: top;\n",
              "    }\n",
              "\n",
              "    .dataframe thead th {\n",
              "        text-align: right;\n",
              "    }\n",
              "</style>\n",
              "<table border=\"1\" class=\"dataframe\">\n",
              "  <thead>\n",
              "    <tr style=\"text-align: right;\">\n",
              "      <th></th>\n",
              "      <th>text</th>\n",
              "      <th>label</th>\n",
              "    </tr>\n",
              "  </thead>\n",
              "  <tbody>\n",
              "    <tr>\n",
              "      <th>74796</th>\n",
              "      <td>RT @Popovich1909: Наш любимый 44 магаз сгорел : (\\nС Новым Годом.</td>\n",
              "      <td>-1</td>\n",
              "    </tr>\n",
              "    <tr>\n",
              "      <th>62793</th>\n",
              "      <td>Только что проснулась. Хочу вечером на каток сходить, только никто не хочет!!!(</td>\n",
              "      <td>-1</td>\n",
              "    </tr>\n",
              "    <tr>\n",
              "      <th>41297</th>\n",
              "      <td>Что делать? Оч скучно( http://t.co/T90E7a96uF</td>\n",
              "      <td>-1</td>\n",
              "    </tr>\n",
              "    <tr>\n",
              "      <th>22797</th>\n",
              "      <td>Посмотрите, сколько миллионов у меня на книжке. :-) #FF</td>\n",
              "      <td>1</td>\n",
              "    </tr>\n",
              "    <tr>\n",
              "      <th>34463</th>\n",
              "      <td>@evgenmikhalenko @NastyshaDolya согласен, только здоровье губить)</td>\n",
              "      <td>1</td>\n",
              "    </tr>\n",
              "  </tbody>\n",
              "</table>\n",
              "</div>"
            ],
            "text/plain": [
              "                                                                                  text  label\n",
              "74796                RT @Popovich1909: Наш любимый 44 магаз сгорел : (\\nС Новым Годом.     -1\n",
              "62793  Только что проснулась. Хочу вечером на каток сходить, только никто не хочет!!!(     -1\n",
              "41297                                    Что делать? Оч скучно( http://t.co/T90E7a96uF     -1\n",
              "22797                          Посмотрите, сколько миллионов у меня на книжке. :-) #FF      1\n",
              "34463                @evgenmikhalenko @NastyshaDolya согласен, только здоровье губить)      1"
            ]
          },
          "metadata": {
            "tags": []
          },
          "execution_count": 174
        }
      ]
    },
    {
      "cell_type": "code",
      "metadata": {
        "id": "nxwK7jtO6IeO"
      },
      "source": [
        "#заменим значение отрицательного сентимента на 0\n",
        "df['label'] = df.label.replace({-1:0})"
      ],
      "execution_count": null,
      "outputs": []
    },
    {
      "cell_type": "code",
      "metadata": {
        "id": "aquwl39_D0tx",
        "outputId": "b44a3ca7-0239-4597-8778-99d7fb6bcedd",
        "colab": {
          "base_uri": "https://localhost:8080/",
          "height": 69
        }
      },
      "source": [
        "df.label.value_counts() # распределение данных по лейблу. по ровну "
      ],
      "execution_count": null,
      "outputs": [
        {
          "output_type": "execute_result",
          "data": {
            "text/plain": [
              "1    15186\n",
              "0    14814\n",
              "Name: label, dtype: int64"
            ]
          },
          "metadata": {
            "tags": []
          },
          "execution_count": 176
        }
      ]
    },
    {
      "cell_type": "markdown",
      "metadata": {
        "id": "t1EKDyyMPYjm"
      },
      "source": [
        "СПОСОБЫ ДАЛЕНИЯ ДАННЫХ\n",
        "\n",
        "\n",
        "HOLD-OUT\n",
        "\n",
        "![holdout](https://data-flair.training/blogs/wp-content/uploads/sites/2/2018/08/1-16.png)"
      ]
    },
    {
      "cell_type": "markdown",
      "metadata": {
        "id": "z6bqCg97OiNu"
      },
      "source": [
        "K-FOLDS\n",
        "\n",
        "![alt text](https://cdn-images-1.medium.com/max/1000/1*NyvaFiG_jXcGgOaouumYJQ.jpeg)"
      ]
    },
    {
      "cell_type": "code",
      "metadata": {
        "id": "mvmUn0iDyL0M"
      },
      "source": [
        "from sklearn.model_selection import train_test_split # SKLERN МЕТОДЫ ОБРАБОТКИ ДАННЫХ,ДЕЛЕНИЯ ДАННЫХ\n",
        "from sklearn.feature_extraction.text import TfidfVectorizer\n",
        "from sklearn.linear_model import LogisticRegression\n",
        "from sklearn.pipeline import Pipeline\n",
        "from sklearn.metrics import classification_report, f1_score"
      ],
      "execution_count": null,
      "outputs": []
    },
    {
      "cell_type": "code",
      "metadata": {
        "id": "w16fLUtU5d3T"
      },
      "source": [
        "#отложим 20% датасета для оценки метри\n",
        "x_tr, x_ts, y_tr, y_ts = train_test_split(df.text, df.label, test_size=0.2, stratify=df.label, random_state=SEED)"
      ],
      "execution_count": null,
      "outputs": []
    },
    {
      "cell_type": "markdown",
      "metadata": {
        "id": "aKLnJc7Tk9WN"
      },
      "source": [
        "**Слова в числа:**\n",
        "\n",
        "\n",
        "\n",
        "1. bag-of-words\n",
        "2. дистрибутивная семантика\n",
        "3. контекстные эмбеддинги\n",
        "\n",
        "\n",
        "\n",
        "\n",
        "\n",
        "\n",
        "1. bag-of-words\n",
        "\n",
        "![alt text](https://cdn-media-1.freecodecamp.org/images/1*j3HUg18QwjDJTJwW9ja5-Q.png)"
      ]
    },
    {
      "cell_type": "markdown",
      "metadata": {
        "id": "muQ7jGGWQeR8"
      },
      "source": [
        "![alt text](https://ic.pics.livejournal.com/eponim2008/17443609/234916/234916_original.jpg)"
      ]
    },
    {
      "cell_type": "markdown",
      "metadata": {
        "id": "_DPLi8d_zugH"
      },
      "source": [
        "![alt text](https://static.wixstatic.com/media/8c192e_aca1362ed46342879db45f1de54bb9d5~mv2.png/v1/fill/w_677,h_357,al_c/8c192e_aca1362ed46342879db45f1de54bb9d5~mv2.png)"
      ]
    },
    {
      "cell_type": "code",
      "metadata": {
        "id": "1kw3zWNO5qeD"
      },
      "source": [
        "#преобразованиев вектор слов,и класификация их. потом пайплайн данных самый простой метод\n",
        "word_vectorizer = TfidfVectorizer()\n",
        "classifier = LogisticRegression()\n",
        "\n",
        "pipeline = Pipeline([\n",
        "    ('vect', word_vectorizer),\n",
        "    ('clf', classifier),\n",
        "    ])"
      ],
      "execution_count": null,
      "outputs": []
    },
    {
      "cell_type": "code",
      "metadata": {
        "id": "FFuOCODP5xBH",
        "outputId": "0cfdf944-f179-4d23-a7bc-fa6a7e8b2174",
        "colab": {
          "base_uri": "https://localhost:8080/",
          "height": 415
        }
      },
      "source": [
        "pipeline.fit(x_tr, y_tr)"
      ],
      "execution_count": null,
      "outputs": [
        {
          "output_type": "execute_result",
          "data": {
            "text/plain": [
              "Pipeline(memory=None,\n",
              "         steps=[('vect',\n",
              "                 TfidfVectorizer(analyzer='word', binary=False,\n",
              "                                 decode_error='strict',\n",
              "                                 dtype=<class 'numpy.float64'>,\n",
              "                                 encoding='utf-8', input='content',\n",
              "                                 lowercase=True, max_df=1.0, max_features=None,\n",
              "                                 min_df=1, ngram_range=(1, 1), norm='l2',\n",
              "                                 preprocessor=None, smooth_idf=True,\n",
              "                                 stop_words=None, strip_accents=None,\n",
              "                                 sublinear_tf=False,\n",
              "                                 token_pattern='(?u)\\\\b\\\\w\\\\w+\\\\b',\n",
              "                                 tokenizer=None, use_idf=True,\n",
              "                                 vocabulary=None)),\n",
              "                ('clf',\n",
              "                 LogisticRegression(C=1.0, class_weight=None, dual=False,\n",
              "                                    fit_intercept=True, intercept_scaling=1,\n",
              "                                    l1_ratio=None, max_iter=100,\n",
              "                                    multi_class='auto', n_jobs=None,\n",
              "                                    penalty='l2', random_state=None,\n",
              "                                    solver='lbfgs', tol=0.0001, verbose=0,\n",
              "                                    warm_start=False))],\n",
              "         verbose=False)"
            ]
          },
          "metadata": {
            "tags": []
          },
          "execution_count": 180
        }
      ]
    },
    {
      "cell_type": "code",
      "metadata": {
        "id": "c0cGRt2QITP4",
        "outputId": "619a3230-a117-45c5-b196-5517d0cebe73",
        "colab": {
          "base_uri": "https://localhost:8080/",
          "height": 190
        }
      },
      "source": [
        "# метрики - precision ,recall, f1-score,метрики по классам 0,1\n",
        "pipe_pred = pipeline.predict(x_ts)\n",
        "f1 = f1_score(y_true=y_ts, y_pred=pipe_pred)\n",
        "cr = classification_report(y_ts, y_pred=pipe_pred)\n",
        "print(f1)\n",
        "print(cr)"
      ],
      "execution_count": null,
      "outputs": [
        {
          "output_type": "stream",
          "text": [
            "0.7228760277285184\n",
            "              precision    recall  f1-score   support\n",
            "\n",
            "           0       0.72      0.69      0.70      2963\n",
            "           1       0.71      0.74      0.72      3037\n",
            "\n",
            "    accuracy                           0.71      6000\n",
            "   macro avg       0.71      0.71      0.71      6000\n",
            "weighted avg       0.71      0.71      0.71      6000\n",
            "\n"
          ],
          "name": "stdout"
        }
      ]
    },
    {
      "cell_type": "code",
      "metadata": {
        "id": "OA-ObXUwh4GW"
      },
      "source": [
        "# сохраним предсказания для теста,на сколько модель адекватна и хорошо работает sents\n",
        "pipe_proba = pipeline.predict_proba(x_ts)[::,1]"
      ],
      "execution_count": null,
      "outputs": []
    },
    {
      "cell_type": "code",
      "metadata": {
        "id": "e5ck1gTy7l6Q",
        "outputId": "3c99cbe3-a0d6-4bae-c33a-630f9a15eb97",
        "colab": {
          "base_uri": "https://localhost:8080/",
          "height": 35
        }
      },
      "source": [
        "sents = ['ты оч классный, правда', 'это ужасно, как они могли?', 'привет как дела?']\n",
        "pipeline.predict(sents)"
      ],
      "execution_count": null,
      "outputs": [
        {
          "output_type": "execute_result",
          "data": {
            "text/plain": [
              "array([1, 0, 1])"
            ]
          },
          "metadata": {
            "tags": []
          },
          "execution_count": 114
        }
      ]
    },
    {
      "cell_type": "code",
      "metadata": {
        "id": "_1vFqnlL8N5E",
        "outputId": "e5ecdfdf-343c-4ef1-d718-4ddfd10432f7",
        "colab": {
          "base_uri": "https://localhost:8080/",
          "height": 69
        }
      },
      "source": [
        "pipeline.predict_proba(sents)"
      ],
      "execution_count": null,
      "outputs": [
        {
          "output_type": "execute_result",
          "data": {
            "text/plain": [
              "array([[0.35272326, 0.64727674],\n",
              "       [0.70733888, 0.29266112],\n",
              "       [0.21059398, 0.78940602]])"
            ]
          },
          "metadata": {
            "tags": []
          },
          "execution_count": 115
        }
      ]
    },
    {
      "cell_type": "markdown",
      "metadata": {
        "id": "1lN8U1vuPyYW"
      },
      "source": [
        "#### перерыв"
      ]
    },
    {
      "cell_type": "markdown",
      "metadata": {
        "id": "sidPjl0ZAcYH"
      },
      "source": [
        "\n",
        "\n",
        "![alt text](https://i.redd.it/y14mutu2stu41.jpg)"
      ]
    },
    {
      "cell_type": "markdown",
      "metadata": {
        "id": "V_hY3R92P0nw"
      },
      "source": [
        "### вторая часть практического занятия"
      ]
    },
    {
      "cell_type": "markdown",
      "metadata": {
        "id": "cwgyC0iLnAys"
      },
      "source": [
        "2. Дистрибутивная семантика (сейчас пропустим)\n",
        "\n",
        "Смысл слова это контекст в котором он встречается.Для каждого слова в словаре есть вектор. можно складывать вектора . фаст текст модель. это не юзается уже\n",
        "\n",
        "\n",
        "---\n",
        "\n",
        "\n",
        "\n",
        "\n",
        "![alt text](https://miro.medium.com/max/327/1*keqyBCQ5FL6A7DZLrXamvQ.png)\n",
        "\n",
        "\n",
        "3. Контекстные эмбеддинги - бест практики\n",
        "\n",
        "\n",
        "![alt text](https://i2.wp.com/mlexplained.com/wp-content/uploads/2019/01/bert.png?w=400&ssl=1)"
      ]
    },
    {
      "cell_type": "code",
      "metadata": {
        "id": "kHr8pKjc8N-i",
        "outputId": "43830df4-2a33-4931-c875-13151ea05439",
        "colab": {
          "base_uri": "https://localhost:8080/"
        }
      },
      "source": [
        "!pip install -U sentence-transformers \n",
        "# bert лучшая практика, это библиотека транформеров "
      ],
      "execution_count": null,
      "outputs": [
        {
          "output_type": "stream",
          "name": "stdout",
          "text": [
            "Looking in indexes: https://pypi.org/simple, https://us-python.pkg.dev/colab-wheels/public/simple/\n",
            "Collecting sentence-transformers\n",
            "  Downloading sentence-transformers-2.2.2.tar.gz (85 kB)\n",
            "\u001b[K     |████████████████████████████████| 85 kB 5.2 MB/s \n",
            "\u001b[?25hCollecting transformers<5.0.0,>=4.6.0\n",
            "  Downloading transformers-4.20.1-py3-none-any.whl (4.4 MB)\n",
            "\u001b[K     |████████████████████████████████| 4.4 MB 50.3 MB/s \n",
            "\u001b[?25hRequirement already satisfied: tqdm in /usr/local/lib/python3.7/dist-packages (from sentence-transformers) (4.64.0)\n",
            "Requirement already satisfied: torch>=1.6.0 in /usr/local/lib/python3.7/dist-packages (from sentence-transformers) (1.11.0+cu113)\n",
            "Requirement already satisfied: torchvision in /usr/local/lib/python3.7/dist-packages (from sentence-transformers) (0.12.0+cu113)\n",
            "Requirement already satisfied: numpy in /usr/local/lib/python3.7/dist-packages (from sentence-transformers) (1.21.6)\n",
            "Requirement already satisfied: scikit-learn in /usr/local/lib/python3.7/dist-packages (from sentence-transformers) (1.0.2)\n",
            "Requirement already satisfied: scipy in /usr/local/lib/python3.7/dist-packages (from sentence-transformers) (1.4.1)\n",
            "Requirement already satisfied: nltk in /usr/local/lib/python3.7/dist-packages (from sentence-transformers) (3.7)\n",
            "Collecting sentencepiece\n",
            "  Downloading sentencepiece-0.1.96-cp37-cp37m-manylinux_2_17_x86_64.manylinux2014_x86_64.whl (1.2 MB)\n",
            "\u001b[K     |████████████████████████████████| 1.2 MB 62.7 MB/s \n",
            "\u001b[?25hCollecting huggingface-hub>=0.4.0\n",
            "  Downloading huggingface_hub-0.8.1-py3-none-any.whl (101 kB)\n",
            "\u001b[K     |████████████████████████████████| 101 kB 12.3 MB/s \n",
            "\u001b[?25hRequirement already satisfied: typing-extensions>=3.7.4.3 in /usr/local/lib/python3.7/dist-packages (from huggingface-hub>=0.4.0->sentence-transformers) (4.1.1)\n",
            "Collecting pyyaml>=5.1\n",
            "  Downloading PyYAML-6.0-cp37-cp37m-manylinux_2_5_x86_64.manylinux1_x86_64.manylinux_2_12_x86_64.manylinux2010_x86_64.whl (596 kB)\n",
            "\u001b[K     |████████████████████████████████| 596 kB 74.8 MB/s \n",
            "\u001b[?25hRequirement already satisfied: packaging>=20.9 in /usr/local/lib/python3.7/dist-packages (from huggingface-hub>=0.4.0->sentence-transformers) (21.3)\n",
            "Requirement already satisfied: requests in /usr/local/lib/python3.7/dist-packages (from huggingface-hub>=0.4.0->sentence-transformers) (2.23.0)\n",
            "Requirement already satisfied: importlib-metadata in /usr/local/lib/python3.7/dist-packages (from huggingface-hub>=0.4.0->sentence-transformers) (4.11.4)\n",
            "Requirement already satisfied: filelock in /usr/local/lib/python3.7/dist-packages (from huggingface-hub>=0.4.0->sentence-transformers) (3.7.1)\n",
            "Requirement already satisfied: pyparsing!=3.0.5,>=2.0.2 in /usr/local/lib/python3.7/dist-packages (from packaging>=20.9->huggingface-hub>=0.4.0->sentence-transformers) (3.0.9)\n",
            "Collecting tokenizers!=0.11.3,<0.13,>=0.11.1\n",
            "  Downloading tokenizers-0.12.1-cp37-cp37m-manylinux_2_12_x86_64.manylinux2010_x86_64.whl (6.6 MB)\n",
            "\u001b[K     |████████████████████████████████| 6.6 MB 56.8 MB/s \n",
            "\u001b[?25hRequirement already satisfied: regex!=2019.12.17 in /usr/local/lib/python3.7/dist-packages (from transformers<5.0.0,>=4.6.0->sentence-transformers) (2022.6.2)\n",
            "Requirement already satisfied: zipp>=0.5 in /usr/local/lib/python3.7/dist-packages (from importlib-metadata->huggingface-hub>=0.4.0->sentence-transformers) (3.8.0)\n",
            "Requirement already satisfied: joblib in /usr/local/lib/python3.7/dist-packages (from nltk->sentence-transformers) (1.1.0)\n",
            "Requirement already satisfied: click in /usr/local/lib/python3.7/dist-packages (from nltk->sentence-transformers) (7.1.2)\n",
            "Requirement already satisfied: chardet<4,>=3.0.2 in /usr/local/lib/python3.7/dist-packages (from requests->huggingface-hub>=0.4.0->sentence-transformers) (3.0.4)\n",
            "Requirement already satisfied: idna<3,>=2.5 in /usr/local/lib/python3.7/dist-packages (from requests->huggingface-hub>=0.4.0->sentence-transformers) (2.10)\n",
            "Requirement already satisfied: urllib3!=1.25.0,!=1.25.1,<1.26,>=1.21.1 in /usr/local/lib/python3.7/dist-packages (from requests->huggingface-hub>=0.4.0->sentence-transformers) (1.24.3)\n",
            "Requirement already satisfied: certifi>=2017.4.17 in /usr/local/lib/python3.7/dist-packages (from requests->huggingface-hub>=0.4.0->sentence-transformers) (2022.6.15)\n",
            "Requirement already satisfied: threadpoolctl>=2.0.0 in /usr/local/lib/python3.7/dist-packages (from scikit-learn->sentence-transformers) (3.1.0)\n",
            "Requirement already satisfied: pillow!=8.3.*,>=5.3.0 in /usr/local/lib/python3.7/dist-packages (from torchvision->sentence-transformers) (7.1.2)\n",
            "Building wheels for collected packages: sentence-transformers\n",
            "  Building wheel for sentence-transformers (setup.py) ... \u001b[?25l\u001b[?25hdone\n",
            "  Created wheel for sentence-transformers: filename=sentence_transformers-2.2.2-py3-none-any.whl size=125938 sha256=ce993fa7982eb5e5608eaa9ec9f5f35e939cea76e8a7a459774c1ed8e98efadb\n",
            "  Stored in directory: /root/.cache/pip/wheels/bf/06/fb/d59c1e5bd1dac7f6cf61ec0036cc3a10ab8fecaa6b2c3d3ee9\n",
            "Successfully built sentence-transformers\n",
            "Installing collected packages: pyyaml, tokenizers, huggingface-hub, transformers, sentencepiece, sentence-transformers\n",
            "  Attempting uninstall: pyyaml\n",
            "    Found existing installation: PyYAML 3.13\n",
            "    Uninstalling PyYAML-3.13:\n",
            "      Successfully uninstalled PyYAML-3.13\n",
            "Successfully installed huggingface-hub-0.8.1 pyyaml-6.0 sentence-transformers-2.2.2 sentencepiece-0.1.96 tokenizers-0.12.1 transformers-4.20.1\n"
          ]
        }
      ]
    },
    {
      "cell_type": "code",
      "metadata": {
        "id": "FBdMIgfi8OBV",
        "outputId": "14ee8757-f95b-4474-def1-af40ba47afcb",
        "colab": {
          "base_uri": "https://localhost:8080/",
          "height": 35
        }
      },
      "source": [
        "from sentence_transformers import SentenceTransformer\n",
        "encoder = SentenceTransformer('distiluse-base-multilingual-cased')# модель базовая обучали на многих языках , все слова к пауер кейсу теоесть меньшемц регистру, distiluse быстро обучается точность немного меньше уменьшение модели "
      ],
      "execution_count": null,
      "outputs": [
        {
          "output_type": "stream",
          "text": [
            "100%|██████████| 504M/504M [00:30<00:00, 16.5MB/s]\n"
          ],
          "name": "stderr"
        }
      ]
    },
    {
      "cell_type": "code",
      "metadata": {
        "id": "ZqxWIorD3Piz",
        "outputId": "ac116e44-ccbf-44da-8f86-ebfbaa0400fa",
        "colab": {
          "base_uri": "https://localhost:8080/",
          "height": 69
        }
      },
      "source": [
        "sentences = ['привет', 'как дела']\n",
        "\n",
        "sentence_embeddings = encoder.encode(sentences)# созд-м фун-ю енкодера ,эта ф-я возвращает лист векторов ,а нам надо матриза рл\n",
        "print(type(sentence_embeddings))\n",
        "print(len(sentence_embeddings))\n",
        "print(sentence_embeddings[0].shape)"
      ],
      "execution_count": null,
      "outputs": [
        {
          "output_type": "stream",
          "text": [
            "<class 'list'>\n",
            "2\n",
            "(512,)\n"
          ],
          "name": "stdout"
        }
      ]
    },
    {
      "cell_type": "code",
      "metadata": {
        "id": "PetZtMUhKIeA"
      },
      "source": [
        "def encode(sents_list, pbar=True):\n",
        "  embs = encoder.encode(sents_list, show_progress_bar=pbar)\n",
        "  return np.array(embs)"
      ],
      "execution_count": null,
      "outputs": []
    },
    {
      "cell_type": "code",
      "metadata": {
        "id": "v1HJDVYELM-l",
        "outputId": "4de0963c-0a24-4700-c000-e0671dccb2ce",
        "colab": {
          "base_uri": "https://localhost:8080/",
          "height": 35
        }
      },
      "source": [
        "embs = encode(sentences)# фу-я енкодера "
      ],
      "execution_count": null,
      "outputs": [
        {
          "output_type": "stream",
          "text": [
            "Batches: 100%|██████████| 1/1 [00:00<00:00, 83.88it/s]\n"
          ],
          "name": "stderr"
        }
      ]
    },
    {
      "cell_type": "code",
      "metadata": {
        "id": "FwMoUKCqUC-q",
        "outputId": "c3fc16d2-224f-4b60-b521-a2627809eba4",
        "colab": {
          "base_uri": "https://localhost:8080/",
          "height": 35
        }
      },
      "source": [
        "embs.shape"
      ],
      "execution_count": null,
      "outputs": [
        {
          "output_type": "execute_result",
          "data": {
            "text/plain": [
              "(2, 512)"
            ]
          },
          "metadata": {
            "tags": []
          },
          "execution_count": 33
        }
      ]
    },
    {
      "cell_type": "code",
      "metadata": {
        "id": "ZxK51GBz94Jr",
        "outputId": "8b90a5ab-e7a0-4205-88ca-5c7e51b7a17f",
        "colab": {
          "base_uri": "https://localhost:8080/",
          "height": 52
        }
      },
      "source": [
        "x_tr_emb = encode(x_tr.str.lower().values)# ловер кейсим \n",
        "x_ts_emb = encode(x_ts.str.lower().values)"
      ],
      "execution_count": null,
      "outputs": [
        {
          "output_type": "stream",
          "text": [
            "Batches: 100%|██████████| 3000/3000 [00:29<00:00, 101.62it/s]\n",
            "Batches: 100%|██████████| 750/750 [00:07<00:00, 101.45it/s]\n"
          ],
          "name": "stderr"
        }
      ]
    },
    {
      "cell_type": "code",
      "metadata": {
        "id": "wkwa898y-ZvZ",
        "outputId": "4ba09a9d-c8ee-4017-df63-c070b163112b",
        "colab": {
          "base_uri": "https://localhost:8080/",
          "height": 35
        }
      },
      "source": [
        "len(x_ts_emb)"
      ],
      "execution_count": null,
      "outputs": [
        {
          "output_type": "execute_result",
          "data": {
            "text/plain": [
              "6000"
            ]
          },
          "metadata": {
            "tags": []
          },
          "execution_count": 36
        }
      ]
    },
    {
      "cell_type": "code",
      "metadata": {
        "id": "_ZLgLAii-c77"
      },
      "source": [
        "clf = LogisticRegression()# 2 "
      ],
      "execution_count": null,
      "outputs": []
    },
    {
      "cell_type": "code",
      "metadata": {
        "id": "Mleglcz5-gk2",
        "outputId": "d3ece9a8-9950-44a0-83dd-01f6d588dff3",
        "colab": {
          "base_uri": "https://localhost:8080/",
          "height": 104
        }
      },
      "source": [
        "clf.fit(x_tr_emb, y_tr)"
      ],
      "execution_count": null,
      "outputs": [
        {
          "output_type": "execute_result",
          "data": {
            "text/plain": [
              "LogisticRegression(C=1.0, class_weight=None, dual=False, fit_intercept=True,\n",
              "                   intercept_scaling=1, l1_ratio=None, max_iter=100,\n",
              "                   multi_class='auto', n_jobs=None, penalty='l2',\n",
              "                   random_state=None, solver='lbfgs', tol=0.0001, verbose=0,\n",
              "                   warm_start=False)"
            ]
          },
          "metadata": {
            "tags": []
          },
          "execution_count": 38
        }
      ]
    },
    {
      "cell_type": "code",
      "metadata": {
        "id": "ao4n-Ff5-i6v"
      },
      "source": [
        "pred = clf.predict(x_ts_emb)"
      ],
      "execution_count": null,
      "outputs": []
    },
    {
      "cell_type": "code",
      "metadata": {
        "id": "viwY8FTY-nts",
        "outputId": "84e18cb3-8204-475e-ca2d-5d118e3f4bc6",
        "colab": {
          "base_uri": "https://localhost:8080/",
          "height": 190
        }
      },
      "source": [
        "f1 = f1_score(y_true=y_ts, y_pred=pred)\n",
        "cr = classification_report(y_ts, y_pred=pred)\n",
        "print(f1)\n",
        "print(cr)"
      ],
      "execution_count": null,
      "outputs": [
        {
          "output_type": "stream",
          "text": [
            "0.8765874308042982\n",
            "              precision    recall  f1-score   support\n",
            "\n",
            "           0       0.88      0.86      0.87      2963\n",
            "           1       0.87      0.89      0.88      3037\n",
            "\n",
            "    accuracy                           0.87      6000\n",
            "   macro avg       0.87      0.87      0.87      6000\n",
            "weighted avg       0.87      0.87      0.87      6000\n",
            "\n"
          ],
          "name": "stdout"
        }
      ]
    },
    {
      "cell_type": "markdown",
      "metadata": {
        "id": "PndWMftkVTV3"
      },
      "source": [
        "## Попробуем в качестве классификатора нейронную сеть,керас-тензор флоу"
      ]
    },
    {
      "cell_type": "code",
      "metadata": {
        "id": "m_OIM6T5_LP1"
      },
      "source": [
        "from tensorflow.keras.models import Sequential\n",
        "from tensorflow.keras.layers import Dense, Dropout\n",
        "from tensorflow.keras.callbacks import EarlyStopping\n",
        "from tensorflow import random \n",
        "random.set_seed(SEED)\n",
        "что это? \n",
        "\n",
        "def get_model():\n",
        "    #создаем модель\n",
        "    model = Sequential() #модель изучи\n",
        "    #добавляем слои, Dense - простой полносвязный слой (обязательно указывать размерность входного слоя)\n",
        "    model.add(Dense(300, input_dim=512, activation='relu')) #     создаем полносвязный слой dense \n",
        "    #dropout выключает часть нейронов на данной эпохе, помогает от переобучения, делает модель устойчивее\n",
        "    model.add(Dropout(0.5))\n",
        "    model.add(Dense(128, activation='relu'))\n",
        "    model.add(Dropout(0.4))\n",
        "    #последний слой будет отвечать за предсказание, сигмоида приведет предсказания к промежутку [0,1]\n",
        "    model.add(Dense(1, activation='sigmoid'))\n",
        "    #переод обучением модель нужно скомпилировать (как и в tf)\n",
        "    model.compile(optimizer='adam',\n",
        "                  loss='binary_crossentropy',\n",
        "                  metrics=['accuracy'])\n",
        "    return model"
      ],
      "execution_count": null,
      "outputs": []
    },
    {
      "cell_type": "code",
      "metadata": {
        "id": "EXNHqZsW_sf8"
      },
      "source": [
        "model = get_model()"
      ],
      "execution_count": null,
      "outputs": []
    },
    {
      "cell_type": "code",
      "metadata": {
        "id": "SqfkzUsz3y5I",
        "outputId": "db44af17-37a4-47b7-e685-83793ee8a10e",
        "colab": {
          "base_uri": "https://localhost:8080/",
          "height": 328
        }
      },
      "source": [
        "model.summary()"
      ],
      "execution_count": null,
      "outputs": [
        {
          "output_type": "stream",
          "text": [
            "Model: \"sequential_8\"\n",
            "_________________________________________________________________\n",
            "Layer (type)                 Output Shape              Param #   \n",
            "=================================================================\n",
            "dense_24 (Dense)             (None, 300)               153900    \n",
            "_________________________________________________________________\n",
            "dropout_16 (Dropout)         (None, 300)               0         \n",
            "_________________________________________________________________\n",
            "dense_25 (Dense)             (None, 128)               38528     \n",
            "_________________________________________________________________\n",
            "dropout_17 (Dropout)         (None, 128)               0         \n",
            "_________________________________________________________________\n",
            "dense_26 (Dense)             (None, 1)                 129       \n",
            "=================================================================\n",
            "Total params: 192,557\n",
            "Trainable params: 192,557\n",
            "Non-trainable params: 0\n",
            "_________________________________________________________________\n"
          ],
          "name": "stdout"
        }
      ]
    },
    {
      "cell_type": "code",
      "metadata": {
        "id": "wVLUAO0t3_fH"
      },
      "source": [
        "es = EarlyStopping(monitor='val_loss', patience=3, verbose=1, restore_best_weights=True)"
      ],
      "execution_count": null,
      "outputs": []
    },
    {
      "cell_type": "code",
      "metadata": {
        "id": "pyYvFG_8_ywk",
        "outputId": "8ab6596d-c87b-4561-dd4a-a315a5db89f2",
        "colab": {
          "base_uri": "https://localhost:8080/",
          "height": 259
        }
      },
      "source": [
        "history = model.fit(x_tr_emb, y_tr, validation_split=0.1,epochs=15, shuffle=True, callbacks=[es])"
      ],
      "execution_count": null,
      "outputs": [
        {
          "output_type": "stream",
          "text": [
            "Epoch 1/15\n",
            "675/675 [==============================] - 2s 2ms/step - loss: 0.5921 - accuracy: 0.6795 - val_loss: 0.5696 - val_accuracy: 0.6983\n",
            "Epoch 2/15\n",
            "675/675 [==============================] - 1s 2ms/step - loss: 0.5592 - accuracy: 0.7125 - val_loss: 0.5710 - val_accuracy: 0.7096\n",
            "Epoch 3/15\n",
            "675/675 [==============================] - 1s 2ms/step - loss: 0.5396 - accuracy: 0.7267 - val_loss: 0.5539 - val_accuracy: 0.7167\n",
            "Epoch 4/15\n",
            "675/675 [==============================] - 1s 2ms/step - loss: 0.5202 - accuracy: 0.7433 - val_loss: 0.5582 - val_accuracy: 0.7117\n",
            "Epoch 5/15\n",
            "675/675 [==============================] - 1s 2ms/step - loss: 0.4965 - accuracy: 0.7594 - val_loss: 0.5576 - val_accuracy: 0.7129\n",
            "Epoch 6/15\n",
            "668/675 [============================>.] - ETA: 0s - loss: 0.4676 - accuracy: 0.7762Restoring model weights from the end of the best epoch.\n",
            "675/675 [==============================] - 1s 2ms/step - loss: 0.4678 - accuracy: 0.7761 - val_loss: 0.5672 - val_accuracy: 0.7188\n",
            "Epoch 00006: early stopping\n"
          ],
          "name": "stdout"
        }
      ]
    },
    {
      "cell_type": "code",
      "metadata": {
        "id": "FWOqpGMO_7W7",
        "outputId": "0a29d8d1-c800-4842-a2a8-0059a9fd3cad",
        "colab": {
          "base_uri": "https://localhost:8080/",
          "height": 573
        }
      },
      "source": [
        "from matplotlib import pyplot as plt\n",
        "\n",
        "def visualize_plot(history):\n",
        "    plt.plot(history.history['accuracy'])\n",
        "    plt.plot(history.history['val_accuracy'])\n",
        "    plt.title('model accuracy')\n",
        "    plt.ylabel('accuracy')\n",
        "    plt.xlabel('epoch')\n",
        "    plt.legend(['train', 'test'], loc='upper left')\n",
        "    plt.show()\n",
        "\n",
        "    plt.plot(history.history['loss'])\n",
        "    plt.plot(history.history['val_loss'])\n",
        "    plt.title('model loss')\n",
        "    plt.ylabel('loss')\n",
        "    plt.xlabel('epoch')\n",
        "    plt.legend(['train', 'test'], loc='upper left')\n",
        "    plt.show()\n",
        "  \n",
        "visualize_plot(history)"
      ],
      "execution_count": null,
      "outputs": [
        {
          "output_type": "display_data",
          "data": {
            "image/png": "[encoded data removed]",
            "text/plain": [
              "<Figure size 432x288 with 1 Axes>"
            ]
          },
          "metadata": {
            "tags": [],
            "needs_background": "light"
          }
        },
        {
          "output_type": "display_data",
          "data": {
            "image/png": "[encoded data removed]",
            "text/plain": [
              "<Figure size 432x288 with 1 Axes>"
            ]
          },
          "metadata": {
            "tags": [],
            "needs_background": "light"
          }
        }
      ]
    },
    {
      "cell_type": "code",
      "metadata": {
        "id": "v-tcWHX0Amih",
        "outputId": "b8572e70-313e-4b58-a2d1-e0557f44990e",
        "colab": {
          "base_uri": "https://localhost:8080/",
          "height": 190
        }
      },
      "source": [
        "#оценим метрики на тестовом датасете\n",
        "pred = model.predict(x_ts_emb)\n",
        "\n",
        "#определим порог для предсказаний\n",
        "thrs=0.5\n",
        "pr = pred.copy()\n",
        "pr[pr>thrs] = 1\n",
        "pr[pr<thrs] = 0\n",
        "\n",
        "f1 = f1_score(y_true=y_ts, y_pred=pr)\n",
        "cr = classification_report(y_ts, y_pred=pr)\n",
        "print(f1)\n",
        "print(cr)"
      ],
      "execution_count": null,
      "outputs": [
        {
          "output_type": "stream",
          "text": [
            "0.9101430638161068\n",
            "              precision    recall  f1-score   support\n",
            "\n",
            "           0       0.93      0.88      0.90      2963\n",
            "           1       0.89      0.93      0.91      3037\n",
            "\n",
            "    accuracy                           0.91      6000\n",
            "   macro avg       0.91      0.91      0.91      6000\n",
            "weighted avg       0.91      0.91      0.91      6000\n",
            "\n"
          ],
          "name": "stdout"
        }
      ]
    },
    {
      "cell_type": "markdown",
      "metadata": {
        "id": "6IesOFdOZbXw"
      },
      "source": [
        "## 3. Попробуем добавить токенизатор в бейзлайн"
      ]
    },
    {
      "cell_type": "code",
      "metadata": {
        "id": "Cs51Ogi8ZqUv"
      },
      "source": [
        "import nltk\n",
        "\n",
        "tknzr = nltk.TweetTokenizer()\n",
        "re_tok = nltk.RegexpTokenizer('(?u)\\\\b\\\\w\\\\w+\\\\b')"
      ],
      "execution_count": null,
      "outputs": []
    },
    {
      "cell_type": "code",
      "metadata": {
        "id": "z9XJkvFpZ5ys",
        "outputId": "ca2940f7-6a64-431f-b7ba-99a3a721d953",
        "colab": {
          "base_uri": "https://localhost:8080/",
          "height": 52
        }
      },
      "source": [
        "tw = df.head(1).text.values[0]\n",
        "print(tw)"
      ],
      "execution_count": null,
      "outputs": [
        {
          "output_type": "stream",
          "text": [
            "RT @Popovich1909: Наш любимый 44 магаз сгорел : (\n",
            "С Новым Годом.\n"
          ],
          "name": "stdout"
        }
      ]
    },
    {
      "cell_type": "code",
      "metadata": {
        "id": "pCXxdV0WaLP_",
        "outputId": "792e114f-005c-4961-922c-d1017602a5b2",
        "colab": {
          "base_uri": "https://localhost:8080/",
          "height": 35
        }
      },
      "source": [
        "print(tknzr.tokenize(tw))"
      ],
      "execution_count": null,
      "outputs": [
        {
          "output_type": "stream",
          "text": [
            "['RT', '@Popovich1909', ':', 'Наш', 'любимый', '44', 'магаз', 'сгорел', ':', '(', 'С', 'Новым', 'Годом', '.']\n"
          ],
          "name": "stdout"
        }
      ]
    },
    {
      "cell_type": "code",
      "metadata": {
        "id": "A8QB3mHMapm0",
        "outputId": "7bb542de-9f2c-4c56-84cb-96c70bf75cfe",
        "colab": {
          "base_uri": "https://localhost:8080/",
          "height": 35
        }
      },
      "source": [
        "print(re_tok.tokenize(tw))"
      ],
      "execution_count": null,
      "outputs": [
        {
          "output_type": "stream",
          "text": [
            "['RT', 'Popovich1909', 'Наш', 'любимый', '44', 'магаз', 'сгорел', 'Новым', 'Годом']\n"
          ],
          "name": "stdout"
        }
      ]
    },
    {
      "cell_type": "code",
      "metadata": {
        "id": "RrrE-wFVZags"
      },
      "source": [
        "word_vectorizer = TfidfVectorizer(tokenizer=tknzr.tokenize)\n",
        "classifier = LogisticRegression()\n",
        "\n",
        "pipeline = Pipeline([\n",
        "    ('vect', word_vectorizer),\n",
        "    ('clf', classifier),\n",
        "    ])"
      ],
      "execution_count": null,
      "outputs": []
    },
    {
      "cell_type": "code",
      "metadata": {
        "id": "tlHcFntqZauP",
        "outputId": "747322ce-77fe-437d-8c68-65e70737e1f1",
        "colab": {
          "base_uri": "https://localhost:8080/",
          "height": 415
        }
      },
      "source": [
        "pipeline.fit(x_tr, y_tr)"
      ],
      "execution_count": null,
      "outputs": [
        {
          "output_type": "execute_result",
          "data": {
            "text/plain": [
              "Pipeline(memory=None,\n",
              "         steps=[('vect',\n",
              "                 TfidfVectorizer(analyzer='word', binary=False,\n",
              "                                 decode_error='strict',\n",
              "                                 dtype=<class 'numpy.float64'>,\n",
              "                                 encoding='utf-8', input='content',\n",
              "                                 lowercase=True, max_df=1.0, max_features=None,\n",
              "                                 min_df=1, ngram_range=(1, 1), norm='l2',\n",
              "                                 preprocessor=None, smooth_idf=True,\n",
              "                                 stop_words=None, strip_accents=None,\n",
              "                                 sublinear_tf=False,\n",
              "                                 token_pattern='(...\n",
              "                                 tokenizer=<bound method TweetTokenizer.tokenize of <nltk.tokenize.casual.TweetTokenizer object at 0x7faa45581b00>>,\n",
              "                                 use_idf=True, vocabulary=None)),\n",
              "                ('clf',\n",
              "                 LogisticRegression(C=1.0, class_weight=None, dual=False,\n",
              "                                    fit_intercept=True, intercept_scaling=1,\n",
              "                                    l1_ratio=None, max_iter=100,\n",
              "                                    multi_class='auto', n_jobs=None,\n",
              "                                    penalty='l2', random_state=None,\n",
              "                                    solver='lbfgs', tol=0.0001, verbose=0,\n",
              "                                    warm_start=False))],\n",
              "         verbose=False)"
            ]
          },
          "metadata": {
            "tags": []
          },
          "execution_count": 117
        }
      ]
    },
    {
      "cell_type": "code",
      "metadata": {
        "id": "ELDlk6p3ZTGA",
        "outputId": "f172c3af-f41c-4d9c-8895-964ec28c1461",
        "colab": {
          "base_uri": "https://localhost:8080/",
          "height": 190
        }
      },
      "source": [
        "pred = pipeline.predict(x_ts)\n",
        "f1 = f1_score(y_true=y_ts, y_pred=pred)\n",
        "cr = classification_report(y_ts, y_pred=pred)\n",
        "print(f1)\n",
        "print(cr)"
      ],
      "execution_count": null,
      "outputs": [
        {
          "output_type": "stream",
          "text": [
            "0.9963887065003282\n",
            "              precision    recall  f1-score   support\n",
            "\n",
            "           0       1.00      0.99      1.00      2963\n",
            "           1       0.99      1.00      1.00      3037\n",
            "\n",
            "    accuracy                           1.00      6000\n",
            "   macro avg       1.00      1.00      1.00      6000\n",
            "weighted avg       1.00      1.00      1.00      6000\n",
            "\n"
          ],
          "name": "stdout"
        }
      ]
    },
    {
      "cell_type": "code",
      "metadata": {
        "id": "3IWXUHVJbRST",
        "outputId": "54106d59-03b3-46f3-fdb5-9d38f2cf1246",
        "colab": {
          "base_uri": "https://localhost:8080/",
          "height": 86
        }
      },
      "source": [
        "test = np.random.choice(x_ts, 2)\n",
        "print(test)\n",
        "print(pipeline.predict_proba(test))"
      ],
      "execution_count": null,
      "outputs": [
        {
          "output_type": "stream",
          "text": [
            "['@machacrum ну не особо)\\nа в каком городе ты живешь?'\n",
            " 'RT @TukvaSociopat: Сейчас Свободные Граждане Украины продолжают собираться на Майдане... ))) #євромайдан http://t.co/KhLIRiY56o']\n",
            "[[0.04663351 0.95336649]\n",
            " [0.00165187 0.99834813]]\n"
          ],
          "name": "stdout"
        }
      ]
    },
    {
      "cell_type": "code",
      "metadata": {
        "id": "p7h2qwdXZTDW",
        "outputId": "c333a0cb-44bc-4b56-ed4f-9d19b59070b6",
        "colab": {
          "base_uri": "https://localhost:8080/",
          "height": 69
        }
      },
      "source": [
        "check = ['ты оч классный, правда', 'это ужасно, как они могли?', 'привет как дела?']\n",
        "pipeline.predict_proba(check)"
      ],
      "execution_count": null,
      "outputs": [
        {
          "output_type": "execute_result",
          "data": {
            "text/plain": [
              "array([[0.42659083, 0.57340917],\n",
              "       [0.50929438, 0.49070562],\n",
              "       [0.49338944, 0.50661056]])"
            ]
          },
          "metadata": {
            "tags": []
          },
          "execution_count": 120
        }
      ]
    },
    {
      "cell_type": "code",
      "metadata": {
        "id": "DOvpLNC-epf4",
        "outputId": "1b4760be-3480-4d5c-d133-03e302bf7193",
        "colab": {
          "base_uri": "https://localhost:8080/",
          "height": 69
        }
      },
      "source": [
        "np.round(model.predict(encode(test)), 3)"
      ],
      "execution_count": null,
      "outputs": [
        {
          "output_type": "stream",
          "text": [
            "Batches: 100%|██████████| 1/1 [00:00<00:00, 80.12it/s]\n"
          ],
          "name": "stderr"
        },
        {
          "output_type": "execute_result",
          "data": {
            "text/plain": [
              "array([[0.994],\n",
              "       [0.989]], dtype=float32)"
            ]
          },
          "metadata": {
            "tags": []
          },
          "execution_count": 121
        }
      ]
    },
    {
      "cell_type": "code",
      "metadata": {
        "id": "lxAjuGBZbIXJ",
        "outputId": "8361fe9b-c41b-4a32-99d8-90723e74d981",
        "colab": {
          "base_uri": "https://localhost:8080/",
          "height": 86
        }
      },
      "source": [
        "np.round(model.predict(encode(check)), 3)"
      ],
      "execution_count": null,
      "outputs": [
        {
          "output_type": "stream",
          "text": [
            "Batches: 100%|██████████| 1/1 [00:00<00:00, 129.88it/s]\n"
          ],
          "name": "stderr"
        },
        {
          "output_type": "execute_result",
          "data": {
            "text/plain": [
              "array([[0.997],\n",
              "       [0.   ],\n",
              "       [0.77 ]], dtype=float32)"
            ]
          },
          "metadata": {
            "tags": []
          },
          "execution_count": 122
        }
      ]
    },
    {
      "cell_type": "markdown",
      "metadata": {
        "id": "ustv7iome4kc"
      },
      "source": [
        "## про препроцессинг"
      ]
    },
    {
      "cell_type": "code",
      "metadata": {
        "id": "Lxushvcye3QM",
        "outputId": "fd9d8f72-c046-461b-ccb5-1fa2e8294164",
        "colab": {
          "base_uri": "https://localhost:8080/",
          "height": 69
        }
      },
      "source": [
        "test"
      ],
      "execution_count": null,
      "outputs": [
        {
          "output_type": "execute_result",
          "data": {
            "text/plain": [
              "array(['@machacrum ну не особо)\\nа в каком городе ты живешь?',\n",
              "       'RT @TukvaSociopat: Сейчас Свободные Граждане Украины продолжают собираться на Майдане... ))) #євромайдан http://t.co/KhLIRiY56o'],\n",
              "      dtype=object)"
            ]
          },
          "metadata": {
            "tags": []
          },
          "execution_count": 129
        }
      ]
    },
    {
      "cell_type": "code",
      "metadata": {
        "id": "pgT7YKs2eT2h"
      },
      "source": [
        "import re\n",
        "\n",
        "## функция для очистки от ссылок, юзернеймов и пунктуации\n",
        "def clean(text):\n",
        "    text = re.sub(r'http[s]?://(?:[a-zA-Z]|[0-9]|[$-_@.&+]|[!*\\(\\),]|(?:%[0-9a-fA-F][0-9a-fA-F]))+', '', text.lower(), flags=re.MULTILINE)\n",
        "    text = re.sub(\"(@[A-Za-z0-9_]+)\",\" \",text)\n",
        "    text = \" \".join(re_tok.tokenize(text.lower())) \n",
        "    return text"
      ],
      "execution_count": null,
      "outputs": []
    },
    {
      "cell_type": "code",
      "metadata": {
        "id": "1PbtQc_AbIck",
        "outputId": "ca13601a-cccd-444a-d1a1-28e3c6eef789",
        "colab": {
          "base_uri": "https://localhost:8080/",
          "height": 35
        }
      },
      "source": [
        "clean(test[0])"
      ],
      "execution_count": null,
      "outputs": [
        {
          "output_type": "execute_result",
          "data": {
            "text/plain": [
              "'ну не особо каком городе ты живешь'"
            ]
          },
          "metadata": {
            "tags": []
          },
          "execution_count": 131
        }
      ]
    },
    {
      "cell_type": "code",
      "metadata": {
        "id": "n1eK3hLjZTAr"
      },
      "source": [
        "clean_x_tr = x_tr.apply(clean)\n",
        "clean_x_ts = x_ts.apply(clean)"
      ],
      "execution_count": null,
      "outputs": []
    },
    {
      "cell_type": "code",
      "metadata": {
        "id": "xpBfb4xVZS96",
        "outputId": "1ba8d34d-cb6e-4b45-f915-00163ada004f",
        "colab": {
          "base_uri": "https://localhost:8080/",
          "height": 52
        }
      },
      "source": [
        "x_tr_emb = encode(clean_x_tr.values)\n",
        "x_ts_emb = encode(clean_x_ts.values)"
      ],
      "execution_count": null,
      "outputs": [
        {
          "output_type": "stream",
          "text": [
            "Batches: 100%|██████████| 3000/3000 [00:23<00:00, 127.10it/s]\n",
            "Batches: 100%|██████████| 750/750 [00:05<00:00, 126.49it/s]\n"
          ],
          "name": "stderr"
        }
      ]
    },
    {
      "cell_type": "code",
      "metadata": {
        "id": "w3qkn696f5TY"
      },
      "source": [
        "clean_model = get_model()"
      ],
      "execution_count": null,
      "outputs": []
    },
    {
      "cell_type": "code",
      "metadata": {
        "id": "PcTdHyMVf5QT",
        "outputId": "351876cf-7be2-4955-c529-0d43a98182a3",
        "colab": {
          "base_uri": "https://localhost:8080/",
          "height": 259
        }
      },
      "source": [
        "history = clean_model.fit(x_tr_emb, y_tr, validation_split=0.1,epochs=15, shuffle=True, callbacks=[es])"
      ],
      "execution_count": null,
      "outputs": [
        {
          "output_type": "stream",
          "text": [
            "Epoch 1/15\n",
            "675/675 [==============================] - 2s 2ms/step - loss: 0.5930 - accuracy: 0.6812 - val_loss: 0.5682 - val_accuracy: 0.7000\n",
            "Epoch 2/15\n",
            "675/675 [==============================] - 1s 2ms/step - loss: 0.5587 - accuracy: 0.7119 - val_loss: 0.5812 - val_accuracy: 0.7067\n",
            "Epoch 3/15\n",
            "675/675 [==============================] - 1s 2ms/step - loss: 0.5415 - accuracy: 0.7232 - val_loss: 0.5536 - val_accuracy: 0.7129\n",
            "Epoch 4/15\n",
            "675/675 [==============================] - 1s 2ms/step - loss: 0.5210 - accuracy: 0.7418 - val_loss: 0.5573 - val_accuracy: 0.7217\n",
            "Epoch 5/15\n",
            "675/675 [==============================] - 1s 2ms/step - loss: 0.4962 - accuracy: 0.7587 - val_loss: 0.5561 - val_accuracy: 0.7154\n",
            "Epoch 6/15\n",
            "653/675 [============================>.] - ETA: 0s - loss: 0.4696 - accuracy: 0.7782Restoring model weights from the end of the best epoch.\n",
            "675/675 [==============================] - 1s 2ms/step - loss: 0.4700 - accuracy: 0.7781 - val_loss: 0.5647 - val_accuracy: 0.7192\n",
            "Epoch 00006: early stopping\n"
          ],
          "name": "stdout"
        }
      ]
    },
    {
      "cell_type": "code",
      "metadata": {
        "id": "V9tJQ98Gf5Nu",
        "outputId": "946f39f8-74e8-4bc3-cb10-b99f5d184d5e",
        "colab": {
          "base_uri": "https://localhost:8080/",
          "height": 573
        }
      },
      "source": [
        "visualize_plot(history)"
      ],
      "execution_count": null,
      "outputs": [
        {
          "output_type": "display_data",
          "data": {
            "image/png": "[encoded data removed]",
            "text/plain": [
              "<Figure size 432x288 with 1 Axes>"
            ]
          },
          "metadata": {
            "tags": [],
            "needs_background": "light"
          }
        },
        {
          "output_type": "display_data",
          "data": {
            "image/png": "[encoded data removed]",
            "text/plain": [
              "<Figure size 432x288 with 1 Axes>"
            ]
          },
          "metadata": {
            "tags": [],
            "needs_background": "light"
          }
        }
      ]
    },
    {
      "cell_type": "code",
      "metadata": {
        "id": "IyqPBaCJhCV-",
        "outputId": "0e43783f-f160-45e8-f4f0-292189ab80d2",
        "colab": {
          "base_uri": "https://localhost:8080/",
          "height": 190
        }
      },
      "source": [
        "#оценим метрики на тестовом датасете\n",
        "pred = model.predict(x_ts_emb)\n",
        "\n",
        "#определим порог для предсказаний\n",
        "thrs=0.5\n",
        "pr = pred.copy()\n",
        "pr[pr>thrs] = 1\n",
        "pr[pr<thrs] = 0\n",
        "\n",
        "f1 = f1_score(y_true=y_ts, y_pred=pr)\n",
        "cr = classification_report(y_ts, y_pred=pr)\n",
        "print(f1)\n",
        "print(cr)"
      ],
      "execution_count": null,
      "outputs": [
        {
          "output_type": "stream",
          "text": [
            "0.7131500496853262\n",
            "              precision    recall  f1-score   support\n",
            "\n",
            "           0       0.71      0.71      0.71      2963\n",
            "           1       0.72      0.71      0.71      3037\n",
            "\n",
            "    accuracy                           0.71      6000\n",
            "   macro avg       0.71      0.71      0.71      6000\n",
            "weighted avg       0.71      0.71      0.71      6000\n",
            "\n"
          ],
          "name": "stdout"
        }
      ]
    },
    {
      "cell_type": "code",
      "metadata": {
        "id": "pYxLIg5WTqr1"
      },
      "source": [
        "errors = pd.DataFrame({'text':x_ts.values, 'label':y_ts.values, 'pred':pr.flatten(),\n",
        "                       'score':pred.flatten(), 'log_pred':pipe_pred,'logreg':pipe_proba})"
      ],
      "execution_count": null,
      "outputs": []
    },
    {
      "cell_type": "markdown",
      "metadata": {
        "id": "ALTH5qIcl6g_"
      },
      "source": [
        "## оценим среднюю уверенность каждой модели для правильных примеров"
      ]
    },
    {
      "cell_type": "code",
      "metadata": {
        "id": "c045FKAokxB6",
        "outputId": "2bfb3dd7-b168-4bce-96b1-4b1d5c6b661e",
        "colab": {
          "base_uri": "https://localhost:8080/",
          "height": 69
        }
      },
      "source": [
        "mean_log_pos = errors[(errors.log_pred == 1) & (errors.label == 1)]['logreg'].mean()\n",
        "mean_log_neg = errors[(errors.log_pred == 0) & (errors.label == 1)]['logreg'].mean()\n",
        "print(f'tf-idf_logreg\\npos_mean: {mean_log_pos}\\npos_neg: {mean_log_neg}')"
      ],
      "execution_count": null,
      "outputs": [
        {
          "output_type": "stream",
          "text": [
            "tf-idf_logreg\n",
            "pos_mean: 0.6943188177339393\n",
            "pos_neg: 0.3701862024284455\n"
          ],
          "name": "stdout"
        }
      ]
    },
    {
      "cell_type": "code",
      "metadata": {
        "id": "1z5_ZWtDk_MO",
        "outputId": "efef0e21-2e02-451d-8806-a59c4fb27dc1",
        "colab": {
          "base_uri": "https://localhost:8080/",
          "height": 69
        }
      },
      "source": [
        "mean_use_pos = errors[(errors.pred == 1) & (errors.label == 1)]['score'].mean()\n",
        "mean_use_neg = errors[(errors.pred == 0) & (errors.label == 1)]['score'].mean()\n",
        "print(f'use_nn\\npos_mean: {mean_use_pos}\\npos_neg: {mean_use_neg}')"
      ],
      "execution_count": null,
      "outputs": [
        {
          "output_type": "stream",
          "text": [
            "use_nn\n",
            "pos_mean: 0.7395147681236267\n",
            "pos_neg: 0.34664013981819153\n"
          ],
          "name": "stdout"
        }
      ]
    },
    {
      "cell_type": "code",
      "metadata": {
        "id": "ZD8vXbVQTqpC",
        "outputId": "311328be-cb4a-4177-bd28-020cba7faf36",
        "colab": {
          "base_uri": "https://localhost:8080/",
          "height": 408
        }
      },
      "source": [
        "errors[(errors.label == 1) & (errors.score < 0.1)]"
      ],
      "execution_count": null,
      "outputs": [
        {
          "output_type": "execute_result",
          "data": {
            "text/html": [
              "<div>\n",
              "<style scoped>\n",
              "    .dataframe tbody tr th:only-of-type {\n",
              "        vertical-align: middle;\n",
              "    }\n",
              "\n",
              "    .dataframe tbody tr th {\n",
              "        vertical-align: top;\n",
              "    }\n",
              "\n",
              "    .dataframe thead th {\n",
              "        text-align: right;\n",
              "    }\n",
              "</style>\n",
              "<table border=\"1\" class=\"dataframe\">\n",
              "  <thead>\n",
              "    <tr style=\"text-align: right;\">\n",
              "      <th></th>\n",
              "      <th>text</th>\n",
              "      <th>label</th>\n",
              "      <th>pred</th>\n",
              "      <th>score</th>\n",
              "      <th>log_pred</th>\n",
              "      <th>logreg</th>\n",
              "    </tr>\n",
              "  </thead>\n",
              "  <tbody>\n",
              "    <tr>\n",
              "      <th>217</th>\n",
              "      <td>@al_cheremuhina @lenakolotirkina @y_yezicheva Бывает и хуже)</td>\n",
              "      <td>1</td>\n",
              "      <td>0.0</td>\n",
              "      <td>0.060877</td>\n",
              "      <td>0</td>\n",
              "      <td>0.343520</td>\n",
              "    </tr>\n",
              "    <tr>\n",
              "      <th>607</th>\n",
              "      <td>@suxxes @stay_positive @theproof ну и что =) грусть-печаль то сейчас, а не в октябре =)</td>\n",
              "      <td>1</td>\n",
              "      <td>0.0</td>\n",
              "      <td>0.020630</td>\n",
              "      <td>0</td>\n",
              "      <td>0.094512</td>\n",
              "    </tr>\n",
              "    <tr>\n",
              "      <th>883</th>\n",
              "      <td>Почему тяжесть жизни не качает пресс ? :) было бы неплохо:)</td>\n",
              "      <td>1</td>\n",
              "      <td>0.0</td>\n",
              "      <td>0.067946</td>\n",
              "      <td>0</td>\n",
              "      <td>0.206488</td>\n",
              "    </tr>\n",
              "    <tr>\n",
              "      <th>1640</th>\n",
              "      <td>Вот я и дома)) Поездка удалась) только очень устала</td>\n",
              "      <td>1</td>\n",
              "      <td>0.0</td>\n",
              "      <td>0.087541</td>\n",
              "      <td>0</td>\n",
              "      <td>0.202781</td>\n",
              "    </tr>\n",
              "    <tr>\n",
              "      <th>2707</th>\n",
              "      <td>@NadiaVysokovich у меня нет слов со вчерашнего дня)</td>\n",
              "      <td>1</td>\n",
              "      <td>0.0</td>\n",
              "      <td>0.049990</td>\n",
              "      <td>0</td>\n",
              "      <td>0.140434</td>\n",
              "    </tr>\n",
              "    <tr>\n",
              "      <th>2730</th>\n",
              "      <td>я жрать хочу, не могу, а дома? Дома как всегда пусто)</td>\n",
              "      <td>1</td>\n",
              "      <td>0.0</td>\n",
              "      <td>0.068388</td>\n",
              "      <td>0</td>\n",
              "      <td>0.121520</td>\n",
              "    </tr>\n",
              "    <tr>\n",
              "      <th>3060</th>\n",
              "      <td>@mariehoorn Жаль,что она не сидит в твиттере\\nТам есть слээээшик :D</td>\n",
              "      <td>1</td>\n",
              "      <td>0.0</td>\n",
              "      <td>0.083695</td>\n",
              "      <td>0</td>\n",
              "      <td>0.311991</td>\n",
              "    </tr>\n",
              "    <tr>\n",
              "      <th>3897</th>\n",
              "      <td>почему ту не видела эту фотку\\nТура:* http://t.co/N2NswpnWgM</td>\n",
              "      <td>1</td>\n",
              "      <td>0.0</td>\n",
              "      <td>0.070879</td>\n",
              "      <td>1</td>\n",
              "      <td>0.612478</td>\n",
              "    </tr>\n",
              "    <tr>\n",
              "      <th>4384</th>\n",
              "      <td>@maria_weberr а я не ходила, у меня бабушка доктор:)</td>\n",
              "      <td>1</td>\n",
              "      <td>0.0</td>\n",
              "      <td>0.075864</td>\n",
              "      <td>0</td>\n",
              "      <td>0.337394</td>\n",
              "    </tr>\n",
              "    <tr>\n",
              "      <th>4508</th>\n",
              "      <td>погода супер) в универ ехать не хочу, чувствую беда назревает)</td>\n",
              "      <td>1</td>\n",
              "      <td>0.0</td>\n",
              "      <td>0.026788</td>\n",
              "      <td>0</td>\n",
              "      <td>0.130705</td>\n",
              "    </tr>\n",
              "    <tr>\n",
              "      <th>5200</th>\n",
              "      <td>@demetria_styles Мне что-то не хочется с ним знакомиться :D</td>\n",
              "      <td>1</td>\n",
              "      <td>0.0</td>\n",
              "      <td>0.081520</td>\n",
              "      <td>0</td>\n",
              "      <td>0.182010</td>\n",
              "    </tr>\n",
              "    <tr>\n",
              "      <th>5322</th>\n",
              "      <td>скучно стало,вот сидим играем:) http://t.co/YI3vsTDzvM</td>\n",
              "      <td>1</td>\n",
              "      <td>0.0</td>\n",
              "      <td>0.081324</td>\n",
              "      <td>0</td>\n",
              "      <td>0.293555</td>\n",
              "    </tr>\n",
              "  </tbody>\n",
              "</table>\n",
              "</div>"
            ],
            "text/plain": [
              "                                                                                         text  ...    logreg\n",
              "217                              @al_cheremuhina @lenakolotirkina @y_yezicheva Бывает и хуже)  ...  0.343520\n",
              "607   @suxxes @stay_positive @theproof ну и что =) грусть-печаль то сейчас, а не в октябре =)  ...  0.094512\n",
              "883                               Почему тяжесть жизни не качает пресс ? :) было бы неплохо:)  ...  0.206488\n",
              "1640                                     Вот я и дома)) Поездка удалась) только очень устала   ...  0.202781\n",
              "2707                                      @NadiaVysokovich у меня нет слов со вчерашнего дня)  ...  0.140434\n",
              "2730                                    я жрать хочу, не могу, а дома? Дома как всегда пусто)  ...  0.121520\n",
              "3060                      @mariehoorn Жаль,что она не сидит в твиттере\\nТам есть слээээшик :D  ...  0.311991\n",
              "3897                             почему ту не видела эту фотку\\nТура:* http://t.co/N2NswpnWgM  ...  0.612478\n",
              "4384                                     @maria_weberr а я не ходила, у меня бабушка доктор:)  ...  0.337394\n",
              "4508                           погода супер) в универ ехать не хочу, чувствую беда назревает)  ...  0.130705\n",
              "5200                              @demetria_styles Мне что-то не хочется с ним знакомиться :D  ...  0.182010\n",
              "5322                                   скучно стало,вот сидим играем:) http://t.co/YI3vsTDzvM  ...  0.293555\n",
              "\n",
              "[12 rows x 6 columns]"
            ]
          },
          "metadata": {
            "tags": []
          },
          "execution_count": 160
        }
      ]
    },
    {
      "cell_type": "markdown",
      "metadata": {
        "id": "qvwL7Jwbrr5X"
      },
      "source": [
        "## ссылки\n",
        "http://jalammar.github.io/illustrated-bert/\n",
        "\n",
        "https://paperswithcode.com/\n",
        "\n",
        "https://vas3k.ru/blog/machine_translation/\n",
        "\n",
        "https://porfirevich.ru/\n",
        "\n",
        "https://www.kaggle.com/c/jigsaw-multilingual-toxic-comment-classification/overview"
      ]
    }
  ]
}